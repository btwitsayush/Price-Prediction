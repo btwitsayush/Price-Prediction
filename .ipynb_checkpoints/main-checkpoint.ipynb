{
 "cells": [
  {
   "cell_type": "code",
   "execution_count": 119,
   "id": "c69b12fb-0a65-4c6a-b0be-5f02c4e64a7a",
   "metadata": {},
   "outputs": [],
   "source": [
    "import pandas as pd\n",
    "import numpy as np\n",
    "from matplotlib import pyplot as plt\n",
    "%matplotlib inline\n",
    "import matplotlib\n",
    "matplotlib.rcParams[\"figure.figsize\"]=(20,10)"
   ]
  },
  {
   "cell_type": "code",
   "execution_count": 121,
   "id": "35742c8d-2886-4a61-af13-d02c38ed5265",
   "metadata": {},
   "outputs": [
    {
     "data": {
      "text/html": [
       "<div>\n",
       "<style scoped>\n",
       "    .dataframe tbody tr th:only-of-type {\n",
       "        vertical-align: middle;\n",
       "    }\n",
       "\n",
       "    .dataframe tbody tr th {\n",
       "        vertical-align: top;\n",
       "    }\n",
       "\n",
       "    .dataframe thead th {\n",
       "        text-align: right;\n",
       "    }\n",
       "</style>\n",
       "<table border=\"1\" class=\"dataframe\">\n",
       "  <thead>\n",
       "    <tr style=\"text-align: right;\">\n",
       "      <th></th>\n",
       "      <th>area_type</th>\n",
       "      <th>availability</th>\n",
       "      <th>location</th>\n",
       "      <th>size</th>\n",
       "      <th>society</th>\n",
       "      <th>total_sqft</th>\n",
       "      <th>bath</th>\n",
       "      <th>balcony</th>\n",
       "      <th>price</th>\n",
       "    </tr>\n",
       "  </thead>\n",
       "  <tbody>\n",
       "    <tr>\n",
       "      <th>0</th>\n",
       "      <td>Super built-up  Area</td>\n",
       "      <td>19-Dec</td>\n",
       "      <td>Electronic City Phase II</td>\n",
       "      <td>2 BHK</td>\n",
       "      <td>Coomee</td>\n",
       "      <td>1056</td>\n",
       "      <td>2.0</td>\n",
       "      <td>1.0</td>\n",
       "      <td>39.07</td>\n",
       "    </tr>\n",
       "    <tr>\n",
       "      <th>1</th>\n",
       "      <td>Plot  Area</td>\n",
       "      <td>Ready To Move</td>\n",
       "      <td>Chikka Tirupathi</td>\n",
       "      <td>4 Bedroom</td>\n",
       "      <td>Theanmp</td>\n",
       "      <td>2600</td>\n",
       "      <td>5.0</td>\n",
       "      <td>3.0</td>\n",
       "      <td>120.00</td>\n",
       "    </tr>\n",
       "    <tr>\n",
       "      <th>2</th>\n",
       "      <td>Built-up  Area</td>\n",
       "      <td>Ready To Move</td>\n",
       "      <td>Uttarahalli</td>\n",
       "      <td>3 BHK</td>\n",
       "      <td>NaN</td>\n",
       "      <td>1440</td>\n",
       "      <td>2.0</td>\n",
       "      <td>3.0</td>\n",
       "      <td>62.00</td>\n",
       "    </tr>\n",
       "    <tr>\n",
       "      <th>3</th>\n",
       "      <td>Super built-up  Area</td>\n",
       "      <td>Ready To Move</td>\n",
       "      <td>Lingadheeranahalli</td>\n",
       "      <td>3 BHK</td>\n",
       "      <td>Soiewre</td>\n",
       "      <td>1521</td>\n",
       "      <td>3.0</td>\n",
       "      <td>1.0</td>\n",
       "      <td>95.00</td>\n",
       "    </tr>\n",
       "    <tr>\n",
       "      <th>4</th>\n",
       "      <td>Super built-up  Area</td>\n",
       "      <td>Ready To Move</td>\n",
       "      <td>Kothanur</td>\n",
       "      <td>2 BHK</td>\n",
       "      <td>NaN</td>\n",
       "      <td>1200</td>\n",
       "      <td>2.0</td>\n",
       "      <td>1.0</td>\n",
       "      <td>51.00</td>\n",
       "    </tr>\n",
       "  </tbody>\n",
       "</table>\n",
       "</div>"
      ],
      "text/plain": [
       "              area_type   availability                  location       size  \\\n",
       "0  Super built-up  Area         19-Dec  Electronic City Phase II      2 BHK   \n",
       "1            Plot  Area  Ready To Move          Chikka Tirupathi  4 Bedroom   \n",
       "2        Built-up  Area  Ready To Move               Uttarahalli      3 BHK   \n",
       "3  Super built-up  Area  Ready To Move        Lingadheeranahalli      3 BHK   \n",
       "4  Super built-up  Area  Ready To Move                  Kothanur      2 BHK   \n",
       "\n",
       "   society total_sqft  bath  balcony   price  \n",
       "0  Coomee        1056   2.0      1.0   39.07  \n",
       "1  Theanmp       2600   5.0      3.0  120.00  \n",
       "2      NaN       1440   2.0      3.0   62.00  \n",
       "3  Soiewre       1521   3.0      1.0   95.00  \n",
       "4      NaN       1200   2.0      1.0   51.00  "
      ]
     },
     "execution_count": 121,
     "metadata": {},
     "output_type": "execute_result"
    }
   ],
   "source": [
    "data_frame=pd.read_csv(\".//data//Bengaluru_House_Data.csv\")\n",
    "data_frame.head()"
   ]
  },
  {
   "cell_type": "code",
   "execution_count": 123,
   "id": "d3086194-46bb-4d2f-839c-29aa66fa9871",
   "metadata": {},
   "outputs": [
    {
     "data": {
      "text/plain": [
       "(13320, 9)"
      ]
     },
     "execution_count": 123,
     "metadata": {},
     "output_type": "execute_result"
    }
   ],
   "source": [
    "data_frame.shape"
   ]
  },
  {
   "cell_type": "code",
   "execution_count": 125,
   "id": "bb742e17-b1b0-4089-a093-910eb2917c81",
   "metadata": {},
   "outputs": [
    {
     "data": {
      "text/plain": [
       "area_type\n",
       "Built-up  Area          2418\n",
       "Carpet  Area              87\n",
       "Plot  Area              2025\n",
       "Super built-up  Area    8790\n",
       "Name: area_type, dtype: int64"
      ]
     },
     "execution_count": 125,
     "metadata": {},
     "output_type": "execute_result"
    }
   ],
   "source": [
    "#Grouping data based on area\n",
    "\n",
    "data_frame.groupby('area_type')['area_type'].agg('count')"
   ]
  },
  {
   "cell_type": "code",
   "execution_count": 127,
   "id": "79979470-6e0d-47e5-a028-60801b5beb0e",
   "metadata": {},
   "outputs": [
    {
     "data": {
      "text/plain": [
       "Index(['area_type', 'availability', 'location', 'size', 'society',\n",
       "       'total_sqft', 'bath', 'balcony', 'price'],\n",
       "      dtype='object')"
      ]
     },
     "execution_count": 127,
     "metadata": {},
     "output_type": "execute_result"
    }
   ],
   "source": [
    "data_frame.columns"
   ]
  },
  {
   "cell_type": "code",
   "execution_count": 129,
   "id": "7b257a6f-2cf8-4f8a-bfde-76788ec84610",
   "metadata": {},
   "outputs": [
    {
     "data": {
      "text/plain": [
       "area_type          0\n",
       "availability       0\n",
       "location           1\n",
       "size              16\n",
       "society         5502\n",
       "total_sqft         0\n",
       "bath              73\n",
       "balcony          609\n",
       "price              0\n",
       "dtype: int64"
      ]
     },
     "execution_count": 129,
     "metadata": {},
     "output_type": "execute_result"
    }
   ],
   "source": [
    "#Data cleaning\n",
    "\"\"\"\n",
    "In data cleaning most basic part is to handle null value. So first of all we will find\n",
    "null values in all the columns and then we will replace it with some numeric data(like we\n",
    "can taken median of all value and fill it with them) or we can drop them as well and for\n",
    "non-numeric data either we can drop them or we can fill thwm with most common data which is\n",
    "avilable in that column i.e. \n",
    "\"\"\"\n",
    "#fetching all the null values in each columns\n",
    "data_frame.isnull().sum()"
   ]
  },
  {
   "cell_type": "code",
   "execution_count": 133,
   "id": "7e3d584d-8add-4562-b507-0073ae39d8da",
   "metadata": {},
   "outputs": [],
   "source": [
    "data_frame['bath'] = data_frame['bath'].fillna(data_frame['bath'].median())\n",
    "data_frame['balcony'] = data_frame['balcony'].fillna(data_frame['balcony'].median())\n"
   ]
  },
  {
   "cell_type": "code",
   "execution_count": 135,
   "id": "98cd3210-f831-4040-adda-62b2fe4f72f4",
   "metadata": {},
   "outputs": [
    {
     "data": {
      "text/plain": [
       "area_type          0\n",
       "availability       0\n",
       "location           1\n",
       "size              16\n",
       "society         5502\n",
       "total_sqft         0\n",
       "bath               0\n",
       "balcony            0\n",
       "price              0\n",
       "dtype: int64"
      ]
     },
     "execution_count": 135,
     "metadata": {},
     "output_type": "execute_result"
    }
   ],
   "source": [
    "data_frame.isnull().sum()"
   ]
  },
  {
   "cell_type": "code",
   "execution_count": 137,
   "id": "bf307f76-75ce-4003-a963-cb4fbe484f59",
   "metadata": {},
   "outputs": [],
   "source": [
    "\"\"\"\n",
    "For non-numeric data we are finding the list of most used value and then we are replacing \n",
    "value at 0 index with \n",
    "\"\"\"\n",
    "data_frame['location'] = data_frame['location'].fillna(data_frame['location'].mode()[0])\n",
    "data_frame['society'] = data_frame['society'].fillna(data_frame['society'].mode()[0])\n",
    "data_frame['size'] = data_frame['size'].fillna(data_frame['size'].mode()[0])\n"
   ]
  },
  {
   "cell_type": "code",
   "execution_count": 139,
   "id": "7cc83ae7-5417-4870-b821-51b2aa48444d",
   "metadata": {},
   "outputs": [
    {
     "data": {
      "text/plain": [
       "area_type       0\n",
       "availability    0\n",
       "location        0\n",
       "size            0\n",
       "society         0\n",
       "total_sqft      0\n",
       "bath            0\n",
       "balcony         0\n",
       "price           0\n",
       "dtype: int64"
      ]
     },
     "execution_count": 139,
     "metadata": {},
     "output_type": "execute_result"
    }
   ],
   "source": [
    "data_frame.isnull().sum()"
   ]
  },
  {
   "cell_type": "code",
   "execution_count": 141,
   "id": "47b56f41-12df-4798-b179-9aa749d8a38f",
   "metadata": {},
   "outputs": [
    {
     "data": {
      "text/plain": [
       "'\\nIf we see carefully in our data few of the values are same but they are written in 2 \\ndifferent ways i.e. 6BHK and 6 Bedroom.\\nSo we will solve this first.\\n'"
      ]
     },
     "execution_count": 141,
     "metadata": {},
     "output_type": "execute_result"
    }
   ],
   "source": [
    "data_frame['size'].unique() \n",
    "\"\"\"\n",
    "If we see carefully in our data few of the values are same but they are written in 2 \n",
    "different ways i.e. 6BHK and 6 Bedroom.\n",
    "So we will solve this first.\n",
    "\"\"\""
   ]
  },
  {
   "cell_type": "code",
   "execution_count": 143,
   "id": "c57cec9e-7a0a-46d0-bcef-4eb8291e54b7",
   "metadata": {},
   "outputs": [],
   "source": [
    "\"\"\"\n",
    "Now we will divide the size column in 2 section first will contain numeric value and \n",
    "second will non-numeric. i.e 4 BHK can be split into 4 and BHK.\n",
    "Then we will store this values in new column.\n",
    "\"\"\"\n",
    "data_frame['bhk']=data_frame['size'].apply(lambda x: int(x.split(' ')[0]))"
   ]
  },
  {
   "cell_type": "code",
   "execution_count": 145,
   "id": "e2d8ef37-cc14-4058-8bc2-7c31d5771635",
   "metadata": {},
   "outputs": [
    {
     "data": {
      "text/plain": [
       "'\\nNow every value for bhk is same so we can drop our size column\\n'"
      ]
     },
     "execution_count": 145,
     "metadata": {},
     "output_type": "execute_result"
    }
   ],
   "source": [
    "data_frame.head()\n",
    "\"\"\"\n",
    "Now every value for bhk is same so we can drop our size column\n",
    "\"\"\""
   ]
  },
  {
   "cell_type": "code",
   "execution_count": 147,
   "id": "6244e8c4-3d20-4a22-ba6a-1c7f64b4994c",
   "metadata": {},
   "outputs": [],
   "source": [
    "data_frame.drop(columns=['size'], inplace=True)\n"
   ]
  },
  {
   "cell_type": "code",
   "execution_count": 149,
   "id": "537f99c2-4111-40db-bd14-1daaa38f6a9d",
   "metadata": {},
   "outputs": [
    {
     "data": {
      "text/plain": [
       "\"\\nNow the size column has been removed and we have store it's value in bhk column now we \\nhave clean data\\n\""
      ]
     },
     "execution_count": 149,
     "metadata": {},
     "output_type": "execute_result"
    }
   ],
   "source": [
    "data_frame.head()\n",
    "\"\"\"\n",
    "Now the size column has been removed and we have store it's value in bhk column now we \n",
    "have clean data\n",
    "\"\"\""
   ]
  },
  {
   "cell_type": "code",
   "execution_count": 151,
   "id": "16c0db51-217b-42c6-8b99-a909ad0f6fbb",
   "metadata": {},
   "outputs": [
    {
     "data": {
      "text/plain": [
       "'\\nIf we notice carefully in our total_sqft column data is not that accurate\\nfor row-4684 if we see carefully it is written we have 34 bhk in just 2400 sq.ft data \\nwhich definetly not correct \\n'"
      ]
     },
     "execution_count": 151,
     "metadata": {},
     "output_type": "execute_result"
    }
   ],
   "source": [
    "#Doing some operation on our data\n",
    "data_frame[data_frame.bhk>20]\n",
    "\n",
    "\"\"\"\n",
    "If we notice carefully in our total_sqft column data is not that accurate\n",
    "for row-4684 if we see carefully it is written we have 34 bhk in just 2400 sq.ft data \n",
    "which definetly not correct \n",
    "\"\"\""
   ]
  },
  {
   "cell_type": "code",
   "execution_count": 153,
   "id": "807b03e6-400c-49b4-8645-01385f671201",
   "metadata": {},
   "outputs": [
    {
     "data": {
      "text/plain": [
       "'\\nif we notice few of our data are in range which is not correct so first of all we will try\\nto improve this by converting range into 1 fixed value i.e we have a range 1133 - 1384\\nwe will take median of both the values and store it only. \\n'"
      ]
     },
     "execution_count": 153,
     "metadata": {},
     "output_type": "execute_result"
    }
   ],
   "source": [
    "data_frame['total_sqft'].unique()\n",
    "\"\"\"\n",
    "if we notice few of our data are in range which is not correct so first of all we will try\n",
    "to improve this by converting range into 1 fixed value i.e we have a range 1133 - 1384\n",
    "we will take median of both the values and store it only. \n",
    "\"\"\""
   ]
  },
  {
   "cell_type": "code",
   "execution_count": 155,
   "id": "cd78628a-48b6-443e-a9ab-2b8ae3e48a1b",
   "metadata": {},
   "outputs": [
    {
     "data": {
      "text/plain": [
       "0    1056.0\n",
       "1    2600.0\n",
       "2    1440.0\n",
       "3    1521.0\n",
       "4    1200.0\n",
       "Name: total_sqft, dtype: float64"
      ]
     },
     "execution_count": 155,
     "metadata": {},
     "output_type": "execute_result"
    }
   ],
   "source": [
    "def convert_sq_to_num(x):\n",
    "    try:\n",
    "        if '-' in x:\n",
    "            tokens = x.split('-')\n",
    "            return (float(tokens[0].strip()) + float(tokens[1].strip())) / 2\n",
    "        return float(x.strip())\n",
    "    except:\n",
    "        return None#for values like 34.46Sq. Meter\n",
    "    \n",
    "data_frame['total_sqft']=data_frame['total_sqft'].apply(convert_sq_to_num)\n",
    "data_frame['total_sqft'].head()"
   ]
  },
  {
   "cell_type": "code",
   "execution_count": 157,
   "id": "4da2ec6c-2775-46f7-9ef4-4b1324e457b9",
   "metadata": {},
   "outputs": [
    {
     "data": {
      "text/plain": [
       "area_type       Super built-up  Area\n",
       "availability                  19-Dec\n",
       "location                   Yelahanka\n",
       "society                      LedorSa\n",
       "total_sqft                    2475.0\n",
       "bath                             4.0\n",
       "balcony                          0.0\n",
       "price                          186.0\n",
       "bhk                                4\n",
       "Name: 30, dtype: object"
      ]
     },
     "execution_count": 157,
     "metadata": {},
     "output_type": "execute_result"
    }
   ],
   "source": [
    "data_frame.loc[30]"
   ]
  },
  {
   "cell_type": "code",
   "execution_count": 159,
   "id": "e114edc4-f891-4c8b-b37e-0743f4c0b564",
   "metadata": {},
   "outputs": [
    {
     "data": {
      "text/plain": [
       "Index(['area_type', 'availability', 'location', 'society', 'total_sqft',\n",
       "       'bath', 'balcony', 'price', 'bhk'],\n",
       "      dtype='object')"
      ]
     },
     "execution_count": 159,
     "metadata": {},
     "output_type": "execute_result"
    }
   ],
   "source": [
    "data_frame.columns"
   ]
  },
  {
   "cell_type": "code",
   "execution_count": 163,
   "id": "5230040c-662f-4d67-9951-44fbac1fe46b",
   "metadata": {},
   "outputs": [],
   "source": [
    "#Callculting the price per_sqft and conveting the value into lakhs\n",
    "data_frame['price_per_sqft']=data_frame['price']*100000/data_frame['total_sqft']"
   ]
  },
  {
   "cell_type": "code",
   "execution_count": 165,
   "id": "a3256bbc-9b54-4592-9e64-ff0c152fd9c2",
   "metadata": {},
   "outputs": [],
   "source": [
    "#As we have price per_sqft  so we can drop the price columns\n",
    "data_frame = data_frame.drop(columns=['price'])"
   ]
  },
  {
   "cell_type": "code",
   "execution_count": 167,
   "id": "a07a866a-a551-48de-879e-b3847005153c",
   "metadata": {},
   "outputs": [
    {
     "data": {
      "text/plain": [
       "Index(['area_type', 'availability', 'location', 'society', 'total_sqft',\n",
       "       'bath', 'balcony', 'bhk', 'price_per_sqft'],\n",
       "      dtype='object')"
      ]
     },
     "execution_count": 167,
     "metadata": {},
     "output_type": "execute_result"
    }
   ],
   "source": [
    "data_frame.columns"
   ]
  },
  {
   "cell_type": "code",
   "execution_count": 169,
   "id": "8215798b-a74c-4c0d-860d-b76315fc04af",
   "metadata": {},
   "outputs": [
    {
     "data": {
      "text/plain": [
       "1305"
      ]
     },
     "execution_count": 169,
     "metadata": {},
     "output_type": "execute_result"
    }
   ],
   "source": [
    "len(data_frame.location.unique())"
   ]
  },
  {
   "cell_type": "code",
   "execution_count": 175,
   "id": "1b486938-4dc5-4e4b-8d45-e91c9811d448",
   "metadata": {},
   "outputs": [
    {
     "data": {
      "text/plain": [
       "0    Electronic City Phase II\n",
       "1            Chikka Tirupathi\n",
       "2                 Uttarahalli\n",
       "3          Lingadheeranahalli\n",
       "4                    Kothanur\n",
       "Name: location, dtype: object"
      ]
     },
     "execution_count": 175,
     "metadata": {},
     "output_type": "execute_result"
    }
   ],
   "source": [
    "data_frame['location'].head()"
   ]
  },
  {
   "cell_type": "code",
   "execution_count": 185,
   "id": "dd8c134f-e6c9-4ae8-9517-fb25db188190",
   "metadata": {},
   "outputs": [
    {
     "data": {
      "text/plain": [
       "location\n",
       "Whitefield               542\n",
       "Sarjapur  Road           399\n",
       "Electronic City          304\n",
       "Kanakpura Road           273\n",
       "Thanisandra              237\n",
       "                        ... \n",
       "1 Giri Nagar               1\n",
       "Kanakapura Road,           1\n",
       "Kanakapura main  Road      1\n",
       "Karnataka Shabarimala      1\n",
       "whitefiled                 1\n",
       "Name: location, Length: 1294, dtype: int64"
      ]
     },
     "execution_count": 185,
     "metadata": {},
     "output_type": "execute_result"
    }
   ],
   "source": [
    "\"\"\"few of values in location column has leading or ending unnessary spaces so we will remove\n",
    "it first\"\"\"\n",
    "\n",
    "data_frame.location=data_frame.location.apply(lambda x:x.strip())\n",
    "\n",
    "location_stats=data_frame.groupby('location')['location'].agg('count').sort_values(ascending=False)\n",
    "location_stats"
   ]
  },
  {
   "cell_type": "code",
   "execution_count": 191,
   "id": "64b42dd9-9730-44dd-bb6f-de46520cf521",
   "metadata": {},
   "outputs": [
    {
     "data": {
      "text/plain": [
       "1053"
      ]
     },
     "execution_count": 191,
     "metadata": {},
     "output_type": "execute_result"
    }
   ],
   "source": [
    "\"\"\"\n",
    "If we noticr in our location data only few of the years are repating repeatedly so the \n",
    "location with count less than 10 can be categorized as other_location\n",
    "\"\"\"\n",
    "len(location_stats[location_stats<=10])"
   ]
  },
  {
   "cell_type": "code",
   "execution_count": 195,
   "id": "786a9252-557c-466f-bf94-cad9ee098ea2",
   "metadata": {},
   "outputs": [
    {
     "data": {
      "text/plain": [
       "location\n",
       "Sadashiva Nagar          10\n",
       "Nagappa Reddy Layout     10\n",
       "Nagadevanahalli          10\n",
       "Dodsworth Layout         10\n",
       "1st Block Koramangala    10\n",
       "                         ..\n",
       "1 Giri Nagar              1\n",
       "Kanakapura Road,          1\n",
       "Kanakapura main  Road     1\n",
       "Karnataka Shabarimala     1\n",
       "whitefiled                1\n",
       "Name: location, Length: 1053, dtype: int64"
      ]
     },
     "execution_count": 195,
     "metadata": {},
     "output_type": "execute_result"
    }
   ],
   "source": [
    "location_stats_less_than_10=location_stats[location_stats<=10]\n",
    "location_stats_less_than_10"
   ]
  },
  {
   "cell_type": "code",
   "execution_count": 201,
   "id": "77846c80-71e2-44f0-8abc-e0cdb4400118",
   "metadata": {},
   "outputs": [
    {
     "data": {
      "text/plain": [
       "242"
      ]
     },
     "execution_count": 201,
     "metadata": {},
     "output_type": "execute_result"
    }
   ],
   "source": [
    "data_frame.location = data_frame['location'].apply(lambda x: 'other' if x in location_stats_less_than_10 else x)\n",
    "len(data_frame.location.unique())"
   ]
  },
  {
   "cell_type": "code",
   "execution_count": 205,
   "id": "c0329f0a-64bb-4bb5-8d5b-b557d0e455d0",
   "metadata": {},
   "outputs": [
    {
     "data": {
      "text/html": [
       "<div>\n",
       "<style scoped>\n",
       "    .dataframe tbody tr th:only-of-type {\n",
       "        vertical-align: middle;\n",
       "    }\n",
       "\n",
       "    .dataframe tbody tr th {\n",
       "        vertical-align: top;\n",
       "    }\n",
       "\n",
       "    .dataframe thead th {\n",
       "        text-align: right;\n",
       "    }\n",
       "</style>\n",
       "<table border=\"1\" class=\"dataframe\">\n",
       "  <thead>\n",
       "    <tr style=\"text-align: right;\">\n",
       "      <th></th>\n",
       "      <th>area_type</th>\n",
       "      <th>availability</th>\n",
       "      <th>location</th>\n",
       "      <th>society</th>\n",
       "      <th>total_sqft</th>\n",
       "      <th>bath</th>\n",
       "      <th>balcony</th>\n",
       "      <th>bhk</th>\n",
       "      <th>price_per_sqft</th>\n",
       "    </tr>\n",
       "  </thead>\n",
       "  <tbody>\n",
       "    <tr>\n",
       "      <th>0</th>\n",
       "      <td>Super built-up  Area</td>\n",
       "      <td>19-Dec</td>\n",
       "      <td>Electronic City Phase II</td>\n",
       "      <td>Coomee</td>\n",
       "      <td>1056.0</td>\n",
       "      <td>2.0</td>\n",
       "      <td>1.0</td>\n",
       "      <td>2</td>\n",
       "      <td>3699.810606</td>\n",
       "    </tr>\n",
       "    <tr>\n",
       "      <th>1</th>\n",
       "      <td>Plot  Area</td>\n",
       "      <td>Ready To Move</td>\n",
       "      <td>Chikka Tirupathi</td>\n",
       "      <td>Theanmp</td>\n",
       "      <td>2600.0</td>\n",
       "      <td>5.0</td>\n",
       "      <td>3.0</td>\n",
       "      <td>4</td>\n",
       "      <td>4615.384615</td>\n",
       "    </tr>\n",
       "    <tr>\n",
       "      <th>2</th>\n",
       "      <td>Built-up  Area</td>\n",
       "      <td>Ready To Move</td>\n",
       "      <td>Uttarahalli</td>\n",
       "      <td>GrrvaGr</td>\n",
       "      <td>1440.0</td>\n",
       "      <td>2.0</td>\n",
       "      <td>3.0</td>\n",
       "      <td>3</td>\n",
       "      <td>4305.555556</td>\n",
       "    </tr>\n",
       "    <tr>\n",
       "      <th>3</th>\n",
       "      <td>Super built-up  Area</td>\n",
       "      <td>Ready To Move</td>\n",
       "      <td>Lingadheeranahalli</td>\n",
       "      <td>Soiewre</td>\n",
       "      <td>1521.0</td>\n",
       "      <td>3.0</td>\n",
       "      <td>1.0</td>\n",
       "      <td>3</td>\n",
       "      <td>6245.890861</td>\n",
       "    </tr>\n",
       "    <tr>\n",
       "      <th>4</th>\n",
       "      <td>Super built-up  Area</td>\n",
       "      <td>Ready To Move</td>\n",
       "      <td>Kothanur</td>\n",
       "      <td>GrrvaGr</td>\n",
       "      <td>1200.0</td>\n",
       "      <td>2.0</td>\n",
       "      <td>1.0</td>\n",
       "      <td>2</td>\n",
       "      <td>4250.000000</td>\n",
       "    </tr>\n",
       "    <tr>\n",
       "      <th>5</th>\n",
       "      <td>Super built-up  Area</td>\n",
       "      <td>Ready To Move</td>\n",
       "      <td>Whitefield</td>\n",
       "      <td>DuenaTa</td>\n",
       "      <td>1170.0</td>\n",
       "      <td>2.0</td>\n",
       "      <td>1.0</td>\n",
       "      <td>2</td>\n",
       "      <td>3247.863248</td>\n",
       "    </tr>\n",
       "    <tr>\n",
       "      <th>6</th>\n",
       "      <td>Super built-up  Area</td>\n",
       "      <td>18-May</td>\n",
       "      <td>Old Airport Road</td>\n",
       "      <td>Jaades</td>\n",
       "      <td>2732.0</td>\n",
       "      <td>4.0</td>\n",
       "      <td>2.0</td>\n",
       "      <td>4</td>\n",
       "      <td>7467.057101</td>\n",
       "    </tr>\n",
       "    <tr>\n",
       "      <th>7</th>\n",
       "      <td>Super built-up  Area</td>\n",
       "      <td>Ready To Move</td>\n",
       "      <td>Rajaji Nagar</td>\n",
       "      <td>Brway G</td>\n",
       "      <td>3300.0</td>\n",
       "      <td>4.0</td>\n",
       "      <td>2.0</td>\n",
       "      <td>4</td>\n",
       "      <td>18181.818182</td>\n",
       "    </tr>\n",
       "    <tr>\n",
       "      <th>8</th>\n",
       "      <td>Super built-up  Area</td>\n",
       "      <td>Ready To Move</td>\n",
       "      <td>Marathahalli</td>\n",
       "      <td>GrrvaGr</td>\n",
       "      <td>1310.0</td>\n",
       "      <td>3.0</td>\n",
       "      <td>1.0</td>\n",
       "      <td>3</td>\n",
       "      <td>4828.244275</td>\n",
       "    </tr>\n",
       "    <tr>\n",
       "      <th>9</th>\n",
       "      <td>Plot  Area</td>\n",
       "      <td>Ready To Move</td>\n",
       "      <td>other</td>\n",
       "      <td>GrrvaGr</td>\n",
       "      <td>1020.0</td>\n",
       "      <td>6.0</td>\n",
       "      <td>2.0</td>\n",
       "      <td>6</td>\n",
       "      <td>36274.509804</td>\n",
       "    </tr>\n",
       "    <tr>\n",
       "      <th>10</th>\n",
       "      <td>Super built-up  Area</td>\n",
       "      <td>18-Feb</td>\n",
       "      <td>Whitefield</td>\n",
       "      <td>GrrvaGr</td>\n",
       "      <td>1800.0</td>\n",
       "      <td>2.0</td>\n",
       "      <td>2.0</td>\n",
       "      <td>3</td>\n",
       "      <td>3888.888889</td>\n",
       "    </tr>\n",
       "    <tr>\n",
       "      <th>11</th>\n",
       "      <td>Plot  Area</td>\n",
       "      <td>Ready To Move</td>\n",
       "      <td>Whitefield</td>\n",
       "      <td>Prrry M</td>\n",
       "      <td>2785.0</td>\n",
       "      <td>5.0</td>\n",
       "      <td>3.0</td>\n",
       "      <td>4</td>\n",
       "      <td>10592.459605</td>\n",
       "    </tr>\n",
       "    <tr>\n",
       "      <th>12</th>\n",
       "      <td>Super built-up  Area</td>\n",
       "      <td>Ready To Move</td>\n",
       "      <td>7th Phase JP Nagar</td>\n",
       "      <td>Shncyes</td>\n",
       "      <td>1000.0</td>\n",
       "      <td>2.0</td>\n",
       "      <td>1.0</td>\n",
       "      <td>2</td>\n",
       "      <td>3800.000000</td>\n",
       "    </tr>\n",
       "    <tr>\n",
       "      <th>13</th>\n",
       "      <td>Built-up  Area</td>\n",
       "      <td>Ready To Move</td>\n",
       "      <td>Gottigere</td>\n",
       "      <td>GrrvaGr</td>\n",
       "      <td>1100.0</td>\n",
       "      <td>2.0</td>\n",
       "      <td>2.0</td>\n",
       "      <td>2</td>\n",
       "      <td>3636.363636</td>\n",
       "    </tr>\n",
       "    <tr>\n",
       "      <th>14</th>\n",
       "      <td>Plot  Area</td>\n",
       "      <td>Ready To Move</td>\n",
       "      <td>Sarjapur</td>\n",
       "      <td>Skityer</td>\n",
       "      <td>2250.0</td>\n",
       "      <td>3.0</td>\n",
       "      <td>2.0</td>\n",
       "      <td>3</td>\n",
       "      <td>6577.777778</td>\n",
       "    </tr>\n",
       "  </tbody>\n",
       "</table>\n",
       "</div>"
      ],
      "text/plain": [
       "               area_type   availability                  location  society  \\\n",
       "0   Super built-up  Area         19-Dec  Electronic City Phase II  Coomee    \n",
       "1             Plot  Area  Ready To Move          Chikka Tirupathi  Theanmp   \n",
       "2         Built-up  Area  Ready To Move               Uttarahalli  GrrvaGr   \n",
       "3   Super built-up  Area  Ready To Move        Lingadheeranahalli  Soiewre   \n",
       "4   Super built-up  Area  Ready To Move                  Kothanur  GrrvaGr   \n",
       "5   Super built-up  Area  Ready To Move                Whitefield  DuenaTa   \n",
       "6   Super built-up  Area         18-May          Old Airport Road  Jaades    \n",
       "7   Super built-up  Area  Ready To Move              Rajaji Nagar  Brway G   \n",
       "8   Super built-up  Area  Ready To Move              Marathahalli  GrrvaGr   \n",
       "9             Plot  Area  Ready To Move                     other  GrrvaGr   \n",
       "10  Super built-up  Area         18-Feb                Whitefield  GrrvaGr   \n",
       "11            Plot  Area  Ready To Move                Whitefield  Prrry M   \n",
       "12  Super built-up  Area  Ready To Move        7th Phase JP Nagar  Shncyes   \n",
       "13        Built-up  Area  Ready To Move                 Gottigere  GrrvaGr   \n",
       "14            Plot  Area  Ready To Move                  Sarjapur  Skityer   \n",
       "\n",
       "    total_sqft  bath  balcony  bhk  price_per_sqft  \n",
       "0       1056.0   2.0      1.0    2     3699.810606  \n",
       "1       2600.0   5.0      3.0    4     4615.384615  \n",
       "2       1440.0   2.0      3.0    3     4305.555556  \n",
       "3       1521.0   3.0      1.0    3     6245.890861  \n",
       "4       1200.0   2.0      1.0    2     4250.000000  \n",
       "5       1170.0   2.0      1.0    2     3247.863248  \n",
       "6       2732.0   4.0      2.0    4     7467.057101  \n",
       "7       3300.0   4.0      2.0    4    18181.818182  \n",
       "8       1310.0   3.0      1.0    3     4828.244275  \n",
       "9       1020.0   6.0      2.0    6    36274.509804  \n",
       "10      1800.0   2.0      2.0    3     3888.888889  \n",
       "11      2785.0   5.0      3.0    4    10592.459605  \n",
       "12      1000.0   2.0      1.0    2     3800.000000  \n",
       "13      1100.0   2.0      2.0    2     3636.363636  \n",
       "14      2250.0   3.0      2.0    3     6577.777778  "
      ]
     },
     "execution_count": 205,
     "metadata": {},
     "output_type": "execute_result"
    }
   ],
   "source": [
    "data_frame.head(15)"
   ]
  },
  {
   "cell_type": "code",
   "execution_count": 207,
   "id": "d34fc14c-3387-485e-9994-8787d5871f66",
   "metadata": {},
   "outputs": [
    {
     "data": {
      "text/plain": [
       "(12576, 9)"
      ]
     },
     "execution_count": 207,
     "metadata": {},
     "output_type": "execute_result"
    }
   ],
   "source": [
    "#detecting outlier and removing them\n",
    "\"\"\"\n",
    "what is outlier ? and why to remove it\n",
    "-->Outlier in a data points toward a value which is very different from other values\n",
    "i.e we have list_ages=[18,19,20,17.18.100] here every values is in range of 17-20\n",
    "but 100 is way higher so it is a outlier which either represent as typo mistake or\n",
    "incorrect measurement that's we remove it to inc the accuracy.\n",
    "\"\"\"\n",
    "\"\"\"\n",
    "In our data we notice 6 bhk flat are avilable in 1000 sqft which is techinally not possible\n",
    "they are kind of outlier which we need to remove\n",
    "\"\"\"\n",
    "data_frame=data_frame[~(data_frame.total_sqft/data_frame.bhk<300)]\n",
    "data_frame.shape\n",
    " "
   ]
  },
  {
   "cell_type": "code",
   "execution_count": 209,
   "id": "335b1349-4100-4e0b-b402-72b324aff1ca",
   "metadata": {},
   "outputs": [
    {
     "data": {
      "text/plain": [
       "count     12530.000000\n",
       "mean       6303.979357\n",
       "std        4162.237981\n",
       "min         267.829813\n",
       "25%        4210.526316\n",
       "50%        5294.117647\n",
       "75%        6916.666667\n",
       "max      176470.588235\n",
       "Name: price_per_sqft, dtype: float64"
      ]
     },
     "execution_count": 209,
     "metadata": {},
     "output_type": "execute_result"
    }
   ],
   "source": [
    "#now we will check whether the price is correct or not\n",
    "data_frame.price_per_sqft.describe()\n",
    "\"\"\"\n",
    "If we see carefully the min price for a property per_sqft is 267Rs which is not possible \n",
    "and there are many more like that.\n",
    "And for max price per_sqft is 176470 which is way to high\n",
    "\"\"\""
   ]
  },
  {
   "cell_type": "code",
   "execution_count": 213,
   "id": "12d95d3b-6ab5-4f47-a7d5-88532aa00be2",
   "metadata": {},
   "outputs": [
    {
     "data": {
      "text/plain": [
       "(10301, 9)"
      ]
     },
     "execution_count": 213,
     "metadata": {},
     "output_type": "execute_result"
    }
   ],
   "source": [
    "  def remove_pps_outliers(df):\n",
    "    df_out = pd.DataFrame()\n",
    "    for key, subdf in df.groupby('location'):\n",
    "        m = np.mean(subdf.price_per_sqft)\n",
    "        st = np.std(subdf.price_per_sqft)\n",
    "        reduced_df = subdf[(subdf.price_per_sqft>(m-st)) & (subdf.price_per_sqft<=(m+st))]\n",
    "        df_out = pd.concat([df_out,reduced_df],ignore_index=True)\n",
    "    return df_out\n",
    "new_df=remove_pps_outliers(data_frame)\n",
    "new_df.shape"
   ]
  },
  {
   "cell_type": "code",
   "execution_count": 225,
   "id": "ddc6d50c-638a-4252-9b8c-e808134861fa",
   "metadata": {},
   "outputs": [
    {
     "data": {
      "image/png": "[encoded data removed]",
      "text/plain": [
       "<Figure size 1500x1000 with 1 Axes>"
      ]
     },
     "metadata": {},
     "output_type": "display_data"
    }
   ],
   "source": [
    "def plot_scatter_chart(df,location):\n",
    "    bhk2 = df[(df.location==location) & (df.bhk==2)]\n",
    "    bhk3 = df[(df.location==location) & (df.bhk==3)]\n",
    "    matplotlib.rcParams['figure.figsize'] = (15,10)\n",
    "    plt.scatter(bhk2.total_sqft,bhk2.price_per_sqft,color='blue',label='2 BHK', s=50)\n",
    "    plt.scatter(bhk3.total_sqft,bhk3.price_per_sqft,marker='+', color='green',label='3 BHK', s=50)\n",
    "    plt.xlabel(\"Total Square Feet Area\")\n",
    "    plt.ylabel(\"Price Per Square Feet (Lakh Indian Rupees)\")\n",
    "    plt.title(location)\n",
    "    plt.legend()\n",
    "    plt.show()\n",
    "    \n",
    "plot_scatter_chart(new_df,\"Hebbal\")\n",
    "\n",
    "\"\"\"\n",
    "If we see carefully at some places price for 2BHK is more than 3BHK\n",
    "\"\"\""
   ]
  },
  {
   "cell_type": "code",
   "execution_count": null,
   "id": "aeada77f-71d2-416f-8047-f713e88d046a",
   "metadata": {},
   "outputs": [],
   "source": [
    "We should also remove properties where for same location, the price of (for example) 3 \n",
    "bedroom apartment is less than 2 bedroom apartment (with same square ft area). What we will do is for a given location, we will build a dictionary of stats per bhk, i.e.\n",
    "\n",
    "{\n",
    "    '1' : {\n",
    "        'mean': 4000,\n",
    "        'std: 2000,\n",
    "        'count': 34\n",
    "    },\n",
    "    '2' : {\n",
    "        'mean': 4300,\n",
    "        'std: 2300,\n",
    "        'count': 22\n",
    "    },    \n",
    "}\n",
    "Now we can remove those 2 BHK apartments whose price_per_sqft is less than mean price_per_sqft of 1 BHK apartment"
   ]
  }
 ],
 "metadata": {
  "kernelspec": {
   "display_name": "Python 3 (ipykernel)",
   "language": "python",
   "name": "python3"
  },
  "language_info": {
   "codemirror_mode": {
    "name": "ipython",
    "version": 3
   },
   "file_extension": ".py",
   "mimetype": "text/x-python",
   "name": "python",
   "nbconvert_exporter": "python",
   "pygments_lexer": "ipython3",
   "version": "3.12.4"
  }
 },
 "nbformat": 4,
 "nbformat_minor": 5
}
